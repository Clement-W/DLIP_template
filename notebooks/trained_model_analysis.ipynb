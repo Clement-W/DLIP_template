{
 "cells": [
  {
   "cell_type": "markdown",
   "metadata": {},
   "source": [
    "# Model Analysis"
   ]
  },
  {
   "cell_type": "markdown",
   "metadata": {},
   "source": [
    "This notebook is a toy example of analysis you can perform on a single checkpoint model"
   ]
  },
  {
   "cell_type": "code",
   "execution_count": 1,
   "metadata": {},
   "outputs": [],
   "source": [
    "# Downloading data\n",
    "from dlip.data.usps import download_usps\n",
    "\n",
    "path = \"../data/raw/\"\n",
    "download_usps(path)"
   ]
  },
  {
   "cell_type": "code",
   "execution_count": 4,
   "metadata": {},
   "outputs": [],
   "source": [
    "# Loading checkpoint\n",
    "\n",
    "from dlip.models.models import LinearModel, load_model\n",
    "from omegaconf import OmegaConf\n",
    "\n",
    "from dlip.utils.utils import instanciate_class\n",
    "\n",
    "path_checkpoint = \"/home/clement/Documents/MVA/S2/deep_in_practice/DLIP_template/experiment_results/outputs/2024-01-30/17-17-41/checkpoint.pt\"\n",
    "path_conf = \"/home/clement/Documents/MVA/S2/deep_in_practice/DLIP_template/experiment_results/outputs/2024-01-30/17-17-41/.hydra/config.yaml\"\n",
    "\n",
    "cfg = OmegaConf.load(path_conf)\n",
    "\n",
    "model = instanciate_class(cfg.model.name, cfg.model.args)"
   ]
  },
  {
   "cell_type": "code",
   "execution_count": 8,
   "metadata": {},
   "outputs": [
    {
     "name": "stdout",
     "output_type": "stream",
     "text": [
      "Accuracy of the model : 16.92 %\n",
      "Accuracy of the model : 15.72 %\n"
     ]
    }
   ],
   "source": [
    "# Calculate the accuracy to evaluate the model\n",
    "\n",
    "from dlip.data.data import load_dataset\n",
    "from dlip.models.evaluation import accuracy\n",
    "\n",
    "train_set, val_set = load_dataset(\"../data/raw/\")\n",
    "\n",
    "accuracy(dataset=train_set, model=model, verbose=True)\n",
    "accuracy(dataset=val_set, model=model, verbose=True);"
   ]
  },
  {
   "cell_type": "code",
   "execution_count": 10,
   "metadata": {},
   "outputs": [
    {
     "data": {
      "image/png": "[encoded data removed]",
      "text/plain": [
       "<Figure size 432x288 with 1 Axes>"
      ]
     },
     "metadata": {
      "needs_background": "light"
     },
     "output_type": "display_data"
    }
   ],
   "source": [
    "# Plot the value of the weights of the first layer\n",
    "import matplotlib.pyplot as plt\n",
    "import torch\n",
    "\n",
    "weights = model.l_in.weight.detach()\n",
    "\n",
    "plt.bar(range(100), torch.abs(weights).sum(dim=1))\n",
    "plt.title(\"Sum of Absolute value of weights of the first layer per output dimension\")\n",
    "plt.show()"
   ]
  }
 ],
 "metadata": {
  "kernelspec": {
   "display_name": "dlinpractise",
   "language": "python",
   "name": "python3"
  },
  "language_info": {
   "codemirror_mode": {
    "name": "ipython",
    "version": 3
   },
   "file_extension": ".py",
   "mimetype": "text/x-python",
   "name": "python",
   "nbconvert_exporter": "python",
   "pygments_lexer": "ipython3",
   "version": "3.8.10"
  }
 },
 "nbformat": 4,
 "nbformat_minor": 2
}
